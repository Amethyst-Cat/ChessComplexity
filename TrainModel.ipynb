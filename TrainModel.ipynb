{
  "nbformat": 4,
  "nbformat_minor": 0,
  "metadata": {
    "colab": {
      "name": "Public ChessSharpness",
      "provenance": [],
      "collapsed_sections": [],
      "machine_shape": "hm"
    },
    "kernelspec": {
      "name": "python3",
      "display_name": "Python 3"
    }
  },
  "cells": [
    {
      "cell_type": "markdown",
      "metadata": {
        "id": "tMnkm_hAUJ7D",
        "colab_type": "text"
      },
      "source": [
        "#Create a Model for Position Complexity given PGN and Evaluations"
      ]
    },
    {
      "cell_type": "markdown",
      "metadata": {
        "id": "59UV1VjiURnk",
        "colab_type": "text"
      },
      "source": [
        "Mount Drive"
      ]
    },
    {
      "cell_type": "code",
      "metadata": {
        "id": "k4L6drDgMxgP",
        "colab_type": "code",
        "outputId": "a8c87450-7d03-4c27-8c4c-392ea1125955",
        "colab": {
          "base_uri": "https://localhost:8080/",
          "height": 121
        }
      },
      "source": [
        "from google.colab import drive\n",
        "drive.mount('/content/drive')"
      ],
      "execution_count": 1,
      "outputs": [
        {
          "output_type": "stream",
          "text": [
            "Go to this URL in a browser: https://accounts.google.com/o/oauth2/auth?client_id=947318989803-6bn6qk8qdgf4n4g3pfee6491hc0brc4i.apps.googleusercontent.com&redirect_uri=urn%3aietf%3awg%3aoauth%3a2.0%3aoob&response_type=code&scope=email%20https%3a%2f%2fwww.googleapis.com%2fauth%2fdocs.test%20https%3a%2f%2fwww.googleapis.com%2fauth%2fdrive%20https%3a%2f%2fwww.googleapis.com%2fauth%2fdrive.photos.readonly%20https%3a%2f%2fwww.googleapis.com%2fauth%2fpeopleapi.readonly\n",
            "\n",
            "Enter your authorization code:\n",
            "··········\n",
            "Mounted at /content/drive\n"
          ],
          "name": "stdout"
        }
      ]
    },
    {
      "cell_type": "markdown",
      "metadata": {
        "id": "djGoUmvXYzd6",
        "colab_type": "text"
      },
      "source": [
        "Imports"
      ]
    },
    {
      "cell_type": "code",
      "metadata": {
        "id": "9705n2jw_Wf1",
        "colab_type": "code",
        "outputId": "84be0796-79d2-4da6-b310-4e90cc217dc6",
        "colab": {
          "base_uri": "https://localhost:8080/",
          "height": 50
        }
      },
      "source": [
        "%tensorflow_version 1.x\n",
        "\n",
        "import pandas as pd\n",
        "import numpy as np\n",
        "\n",
        "import tensorflow as tf\n",
        "from tensorflow.keras.layers import Dense, Activation, Dropout\n",
        "from tensorflow.keras import Sequential \n",
        "\n",
        "import chess\n",
        "import chess.pgn\n",
        "import chess.engine\n",
        "from tqdm import tqdm \n",
        "import random\n",
        "\n",
        "!pip install python-chess --upgrade"
      ],
      "execution_count": 1,
      "outputs": [
        {
          "output_type": "stream",
          "text": [
            "TensorFlow 1.x selected.\n",
            "Requirement already up-to-date: python-chess in /usr/local/lib/python3.6/dist-packages (0.31.1)\n"
          ],
          "name": "stdout"
        }
      ]
    },
    {
      "cell_type": "markdown",
      "metadata": {
        "id": "YRJcTAqwZI-6",
        "colab_type": "text"
      },
      "source": [
        "Methods to Process PGN and FEN"
      ]
    },
    {
      "cell_type": "code",
      "metadata": {
        "id": "d6PmvQqrXZB6",
        "colab_type": "code",
        "outputId": "9fd6ba55-f7c5-4701-c7db-e6833a3237e6",
        "colab": {
          "base_uri": "https://localhost:8080/",
          "height": 67
        }
      },
      "source": [
        "# Remove the move tags, keep only information about the board\n",
        "def process_fen(unprocessed_fen): \n",
        "  split = unprocessed_fen.split(\" \")\n",
        "  new_fen = unprocessed_fen\n",
        "  if len(split) == 6:\n",
        "    new_fen = \"\"\n",
        "    for i in range(len(split) - 2):\n",
        "      new_fen = new_fen + split[i] + \" \"\n",
        "  \n",
        "  return new_fen\n",
        "\n",
        "# Return a clean PGN file\n",
        "def reset_pgn():\n",
        "  return open(\"/content/drive/My Drive/MassChessModelTesting/data.pgn\")\n",
        "\n",
        "# Check whether a string is a float\n",
        "def isfloat(string):\n",
        "  try:\n",
        "    float(string)\n",
        "  except:\n",
        "    return False\n",
        "  return True\n",
        "\n",
        "print(isfloat(\"-102\"))\n",
        "print(isfloat(\"23.5\"))\n",
        "print(isfloat(\"NA\"))"
      ],
      "execution_count": 2,
      "outputs": [
        {
          "output_type": "stream",
          "text": [
            "True\n",
            "True\n",
            "False\n"
          ],
          "name": "stdout"
        }
      ]
    },
    {
      "cell_type": "markdown",
      "metadata": {
        "id": "sswEPYoZZSUi",
        "colab_type": "text"
      },
      "source": [
        "Methods to process FEN to Model Input"
      ]
    },
    {
      "cell_type": "code",
      "metadata": {
        "id": "z3ZSPuKSlUIO",
        "colab_type": "code",
        "outputId": "4b376931-d2c4-4f7e-9a3f-feab02b5225c",
        "colab": {
          "base_uri": "https://localhost:8080/",
          "height": 34
        }
      },
      "source": [
        "pieces_order = 'KQRBNPkqrbnp' # 8x8x12\n",
        "ind = {pieces_order[i]: i for i in range(12)}\n",
        "print(\"Ind\", ind)\n",
        "\n",
        "# feed in board part of fen \n",
        "def replace_tags_board(board_san):\n",
        "    board_san = board_san.replace(\"2\", \"11\")\n",
        "    board_san = board_san.replace(\"3\", \"111\")\n",
        "    board_san = board_san.replace(\"4\", \"1111\")\n",
        "    board_san = board_san.replace(\"5\", \"11111\")\n",
        "    board_san = board_san.replace(\"6\", \"111111\")\n",
        "    board_san = board_san.replace(\"7\", \"1111111\")\n",
        "    board_san = board_san.replace(\"8\", \"11111111\")\n",
        "    return board_san.replace(\"/\", \"\")\n",
        "\n",
        "# Process FEN to 8 x 8 x 12 board\n",
        "def board_planes(fen): # 8 x 8 x 12\n",
        "  board_state = replace_tags_board(fen) # rnbqkbnrppp11ppp1111p111111pP1111111111111111111PPPP1PPPRNBQKBNR\n",
        "  pieces_both = np.zeros(shape=(12, 8, 8), dtype=np.float32)\n",
        "\n",
        "  for rank in range(8):\n",
        "      for file in range(8):\n",
        "          piece = board_state[rank * 8 + file]\n",
        "          if piece.isalpha(): # if its a letter\n",
        "            pieces_both[ind[piece]][rank][file] = 1\n",
        "\n",
        "  assert pieces_both.shape == (12, 8, 8)\n",
        "  return pieces_both\n",
        "\n",
        "# Input full FEN -> Board Pieces + Turn\n",
        "def flat_input(fen):\n",
        "  split = fen.split(' ')\n",
        "  \n",
        "  color = np.zeros((1), dtype=np.float32)\n",
        "  color[0] = 1 if split[1] == 'w' else 0\n",
        "\n",
        "  # Board Input\n",
        "  board_input = np.ndarray.flatten(board_planes(split[0]))\n",
        "  assert board_input.shape == (768,)\n",
        "  \n",
        "  ret = np.concatenate((color, board_input))\n",
        "  return ret"
      ],
      "execution_count": 3,
      "outputs": [
        {
          "output_type": "stream",
          "text": [
            "Ind {'K': 0, 'Q': 1, 'R': 2, 'B': 3, 'N': 4, 'P': 5, 'k': 6, 'q': 7, 'r': 8, 'b': 9, 'n': 10, 'p': 11}\n"
          ],
          "name": "stdout"
        }
      ]
    },
    {
      "cell_type": "markdown",
      "metadata": {
        "id": "EWMi9CArbVjz",
        "colab_type": "text"
      },
      "source": [
        "Test to Process Errors from Games"
      ]
    },
    {
      "cell_type": "code",
      "metadata": {
        "id": "O2BqHTZ_NDYV",
        "colab_type": "code",
        "outputId": "723c5e47-d8b5-45c0-eec2-a96837d6141d",
        "colab": {
          "base_uri": "https://localhost:8080/",
          "height": 1000
        }
      },
      "source": [
        "game_data = pd.read_csv(\"/content/drive/My Drive/MassChessModelTesting/stockfish.csv\")\n",
        "# print(game_data)\n",
        "game_evals = game_data['MoveScores'][26]\n",
        "processed = game_evals.split(\" \")\n",
        "\n",
        "print(processed)\n",
        "for i in range(len(processed)):\n",
        "  if not isfloat(processed[i - 1]) or not isfloat(processed[i]): # If you get NA\n",
        "    error = \"NA\"\n",
        "  elif i > 0:\n",
        "    error = int(processed[i]) - int(processed[i - 1]) if i % 2 == 1 else int(processed[i - 1]) - int(processed[i])\n",
        "  else:\n",
        "    error = 0\n",
        "  print(\"Move:\", i//2+1, \"Eval:\", processed[i], \n",
        "        \"Error:\", error)"
      ],
      "execution_count": 4,
      "outputs": [
        {
          "output_type": "stream",
          "text": [
            "['18', '29', '-8', '-8', '-6', '27', '27', '13', '-9', '18', '-17', '-19', '-32', '-6', '-2', '3', '-11', '3', '-14', '16', '-16', '-5', '-37', '21', '15', '14', '6', '40', '43', '34', '33', '71', '88', '60', '54', '56', '45', '46', '56', '65', '73', '100', '85', '101', '47', '44', '46', '48', '43', '48', '60', '62', '65', '43', '21', '34', '39', '48', '46', '103', '57', '74', '77', '75', '81', '91', '50', '39', '65', '86', '17', '93', '90', '106', '-1', '32', '-44', '-31', '-24', '-10', '-49', '-24', '-36', '-48', '-77', '-30', '-21', '-27', '-23', '491', '505', '514', '498', '798', '796', '2093', '10202', '10682', '2407', '841', '3781', '969', '1678', '1674', '1211', '4835', '4835', '862', '4843', 'NA', '4850']\n",
            "Move: 1 Eval: 18 Error: 0\n",
            "Move: 1 Eval: 29 Error: 11\n",
            "Move: 2 Eval: -8 Error: 37\n",
            "Move: 2 Eval: -8 Error: 0\n",
            "Move: 3 Eval: -6 Error: -2\n",
            "Move: 3 Eval: 27 Error: 33\n",
            "Move: 4 Eval: 27 Error: 0\n",
            "Move: 4 Eval: 13 Error: -14\n",
            "Move: 5 Eval: -9 Error: 22\n",
            "Move: 5 Eval: 18 Error: 27\n",
            "Move: 6 Eval: -17 Error: 35\n",
            "Move: 6 Eval: -19 Error: -2\n",
            "Move: 7 Eval: -32 Error: 13\n",
            "Move: 7 Eval: -6 Error: 26\n",
            "Move: 8 Eval: -2 Error: -4\n",
            "Move: 8 Eval: 3 Error: 5\n",
            "Move: 9 Eval: -11 Error: 14\n",
            "Move: 9 Eval: 3 Error: 14\n",
            "Move: 10 Eval: -14 Error: 17\n",
            "Move: 10 Eval: 16 Error: 30\n",
            "Move: 11 Eval: -16 Error: 32\n",
            "Move: 11 Eval: -5 Error: 11\n",
            "Move: 12 Eval: -37 Error: 32\n",
            "Move: 12 Eval: 21 Error: 58\n",
            "Move: 13 Eval: 15 Error: 6\n",
            "Move: 13 Eval: 14 Error: -1\n",
            "Move: 14 Eval: 6 Error: 8\n",
            "Move: 14 Eval: 40 Error: 34\n",
            "Move: 15 Eval: 43 Error: -3\n",
            "Move: 15 Eval: 34 Error: -9\n",
            "Move: 16 Eval: 33 Error: 1\n",
            "Move: 16 Eval: 71 Error: 38\n",
            "Move: 17 Eval: 88 Error: -17\n",
            "Move: 17 Eval: 60 Error: -28\n",
            "Move: 18 Eval: 54 Error: 6\n",
            "Move: 18 Eval: 56 Error: 2\n",
            "Move: 19 Eval: 45 Error: 11\n",
            "Move: 19 Eval: 46 Error: 1\n",
            "Move: 20 Eval: 56 Error: -10\n",
            "Move: 20 Eval: 65 Error: 9\n",
            "Move: 21 Eval: 73 Error: -8\n",
            "Move: 21 Eval: 100 Error: 27\n",
            "Move: 22 Eval: 85 Error: 15\n",
            "Move: 22 Eval: 101 Error: 16\n",
            "Move: 23 Eval: 47 Error: 54\n",
            "Move: 23 Eval: 44 Error: -3\n",
            "Move: 24 Eval: 46 Error: -2\n",
            "Move: 24 Eval: 48 Error: 2\n",
            "Move: 25 Eval: 43 Error: 5\n",
            "Move: 25 Eval: 48 Error: 5\n",
            "Move: 26 Eval: 60 Error: -12\n",
            "Move: 26 Eval: 62 Error: 2\n",
            "Move: 27 Eval: 65 Error: -3\n",
            "Move: 27 Eval: 43 Error: -22\n",
            "Move: 28 Eval: 21 Error: 22\n",
            "Move: 28 Eval: 34 Error: 13\n",
            "Move: 29 Eval: 39 Error: -5\n",
            "Move: 29 Eval: 48 Error: 9\n",
            "Move: 30 Eval: 46 Error: 2\n",
            "Move: 30 Eval: 103 Error: 57\n",
            "Move: 31 Eval: 57 Error: 46\n",
            "Move: 31 Eval: 74 Error: 17\n",
            "Move: 32 Eval: 77 Error: -3\n",
            "Move: 32 Eval: 75 Error: -2\n",
            "Move: 33 Eval: 81 Error: -6\n",
            "Move: 33 Eval: 91 Error: 10\n",
            "Move: 34 Eval: 50 Error: 41\n",
            "Move: 34 Eval: 39 Error: -11\n",
            "Move: 35 Eval: 65 Error: -26\n",
            "Move: 35 Eval: 86 Error: 21\n",
            "Move: 36 Eval: 17 Error: 69\n",
            "Move: 36 Eval: 93 Error: 76\n",
            "Move: 37 Eval: 90 Error: 3\n",
            "Move: 37 Eval: 106 Error: 16\n",
            "Move: 38 Eval: -1 Error: 107\n",
            "Move: 38 Eval: 32 Error: 33\n",
            "Move: 39 Eval: -44 Error: 76\n",
            "Move: 39 Eval: -31 Error: 13\n",
            "Move: 40 Eval: -24 Error: -7\n",
            "Move: 40 Eval: -10 Error: 14\n",
            "Move: 41 Eval: -49 Error: 39\n",
            "Move: 41 Eval: -24 Error: 25\n",
            "Move: 42 Eval: -36 Error: 12\n",
            "Move: 42 Eval: -48 Error: -12\n",
            "Move: 43 Eval: -77 Error: 29\n",
            "Move: 43 Eval: -30 Error: 47\n",
            "Move: 44 Eval: -21 Error: -9\n",
            "Move: 44 Eval: -27 Error: -6\n",
            "Move: 45 Eval: -23 Error: -4\n",
            "Move: 45 Eval: 491 Error: 514\n",
            "Move: 46 Eval: 505 Error: -14\n",
            "Move: 46 Eval: 514 Error: 9\n",
            "Move: 47 Eval: 498 Error: 16\n",
            "Move: 47 Eval: 798 Error: 300\n",
            "Move: 48 Eval: 796 Error: 2\n",
            "Move: 48 Eval: 2093 Error: 1297\n",
            "Move: 49 Eval: 10202 Error: -8109\n",
            "Move: 49 Eval: 10682 Error: 480\n",
            "Move: 50 Eval: 2407 Error: 8275\n",
            "Move: 50 Eval: 841 Error: -1566\n",
            "Move: 51 Eval: 3781 Error: -2940\n",
            "Move: 51 Eval: 969 Error: -2812\n",
            "Move: 52 Eval: 1678 Error: -709\n",
            "Move: 52 Eval: 1674 Error: -4\n",
            "Move: 53 Eval: 1211 Error: 463\n",
            "Move: 53 Eval: 4835 Error: 3624\n",
            "Move: 54 Eval: 4835 Error: 0\n",
            "Move: 54 Eval: 862 Error: -3973\n",
            "Move: 55 Eval: 4843 Error: -3981\n",
            "Move: 55 Eval: NA Error: NA\n",
            "Move: 56 Eval: 4850 Error: NA\n"
          ],
          "name": "stdout"
        }
      ]
    },
    {
      "cell_type": "markdown",
      "metadata": {
        "id": "3v6TPh-LaI5q",
        "colab_type": "text"
      },
      "source": [
        "Collect FENs and Errors from Games"
      ]
    },
    {
      "cell_type": "code",
      "metadata": {
        "id": "UpIcHInqW7d4",
        "colab_type": "code",
        "outputId": "e23580ad-7a13-433f-f3cb-7a8e0608d33d",
        "colab": {
          "base_uri": "https://localhost:8080/",
          "height": 34
        }
      },
      "source": [
        "global_fen_list = [[], [], [], [], []] # 5 inner lists for the 5 rating categories\n",
        "global_error_list = [[], [], [], [], []] # Error Value with 5 inner lists\n",
        "\n",
        "cutoff = 12 # start looking at errors on move 12\n",
        "\n",
        "pgn = reset_pgn()\n",
        "\n",
        "game_data = pd.read_csv(\"/content/drive/My Drive/MassChessModelTesting/stockfish.csv\") # Read csv file of evaluations\n",
        "# print(game_data)\n",
        "\n",
        "for game in tqdm(range(25000)): # 25000 games in pgn file\n",
        "  game_evals = game_data['MoveScores'][game]\n",
        "  processed = game_evals.split(\" \")\n",
        "\n",
        "  first_game = chess.pgn.read_game(pgn)\n",
        "  test_board = first_game.board()\n",
        "\n",
        "  white_elo = int(first_game.headers[\"WhiteElo\"])\n",
        "  black_elo = int(first_game.headers[\"BlackElo\"])\n",
        "\n",
        "  for move in first_game.mainline_moves():\n",
        "    if test_board.fullmove_number >= cutoff: # Save if not opening theory\n",
        "      shift = 0 if test_board.turn == True else 1\n",
        "      index = (test_board.fullmove_number - 1) * 2 + shift # Go from move number and turn to index in list\n",
        "\n",
        "      if not isfloat(processed[index - 1]) or not isfloat(processed[index]): # If you get NA\n",
        "        continue\n",
        "      if abs(int(processed[index - 1])) >= 350: # If the previous move's evaluation was already too winning\n",
        "        continue\n",
        "      else:\n",
        "        error = int(processed[index]) - int(processed[index - 1]) if index % 2 == 1 else int(processed[index - 1]) - int(processed[index])\n",
        "        if error < 30: # Changed to 30\n",
        "          error = 0\n",
        "\n",
        "        # process error to centipawns\n",
        "        if error > 100:\n",
        "          error = 100\n",
        "        \n",
        "        error = error * 0.01 # Scale down error from 0 to 1\n",
        "        \n",
        "        # Save the FEN, error\n",
        "        fen = process_fen(test_board.fen())\n",
        "        elo = white_elo if test_board.turn == True else black_elo\n",
        "\n",
        "        # Assign ratings to categories\n",
        "        if elo < 1600:\n",
        "          global_fen_list[1].append(fen)\n",
        "          global_error_list[1].append(error)\n",
        "        elif elo >= 1600 and elo < 1900:\n",
        "          global_fen_list[0].append(fen)\n",
        "          global_error_list[0].append(error)\n",
        "        elif elo >= 1900 and elo < 2200:\n",
        "          global_fen_list[0].append(fen)\n",
        "          global_error_list[0].append(error)\n",
        "        elif elo >= 2200 and elo < 2500:\n",
        "          global_fen_list[0].append(fen)\n",
        "          global_error_list[0].append(error)\n",
        "        elif elo >= 2500:\n",
        "          global_fen_list[0].append(fen)\n",
        "          global_error_list[0].append(error)\n",
        "\n",
        "    test_board.push(move) # Make a move"
      ],
      "execution_count": 5,
      "outputs": [
        {
          "output_type": "stream",
          "text": [
            "100%|██████████| 25000/25000 [03:55<00:00, 106.28it/s]\n"
          ],
          "name": "stderr"
        }
      ]
    },
    {
      "cell_type": "markdown",
      "metadata": {
        "id": "6ViDeYeOaSZ9",
        "colab_type": "text"
      },
      "source": [
        "Graph of Errors"
      ]
    },
    {
      "cell_type": "code",
      "metadata": {
        "id": "ldGWQefJ1FB3",
        "colab_type": "code",
        "outputId": "c4259c34-b9b5-479a-c346-c6e9f353e067",
        "colab": {
          "base_uri": "https://localhost:8080/",
          "height": 343
        }
      },
      "source": [
        "import matplotlib.pyplot as plt\n",
        "plt.hist(global_error_list[0]) "
      ],
      "execution_count": 6,
      "outputs": [
        {
          "output_type": "execute_result",
          "data": {
            "text/plain": [
              "(array([984825.,      0.,   7126.,  53052.,  39715.,  30747.,  17749.,\n",
              "         15064.,  11344.,  56374.]),\n",
              " array([0. , 0.1, 0.2, 0.3, 0.4, 0.5, 0.6, 0.7, 0.8, 0.9, 1. ]),\n",
              " <a list of 10 Patch objects>)"
            ]
          },
          "metadata": {
            "tags": []
          },
          "execution_count": 6
        },
        {
          "output_type": "display_data",
          "data": {
            "image/png": "[encoded data removed]",
            "text/plain": [
              "<Figure size 432x288 with 1 Axes>"
            ]
          },
          "metadata": {
            "tags": [],
            "needs_background": "light"
          }
        }
      ]
    },
    {
      "cell_type": "markdown",
      "metadata": {
        "id": "D2jsQFd1axjQ",
        "colab_type": "text"
      },
      "source": [
        "Create Train & Test Sets for Input"
      ]
    },
    {
      "cell_type": "code",
      "metadata": {
        "id": "cIpeYzIEjL4q",
        "colab_type": "code",
        "outputId": "086c573a-c4b9-4d34-b8d8-4a93afc15735",
        "colab": {
          "base_uri": "https://localhost:8080/",
          "height": 50
        }
      },
      "source": [
        "rating_category = 0 # Choose a category\n",
        "print(len(global_error_list[rating_category]))\n",
        "print(len(global_fen_list[rating_category]))\n",
        "\n",
        "# Shuffle the list so similar positions don't end up near each other\n",
        "shuffled_list = [i for i in range(len(global_fen_list[rating_category]))]\n",
        "random.shuffle(shuffled_list)\n",
        "\n",
        "testing_amount = 10000\n",
        "training_amount = 1205996\n",
        "\n",
        "train_fen_list = []\n",
        "train_error_list = []\n",
        "\n",
        "test_fen_list = []\n",
        "test_error_list = []\n",
        "\n",
        "# Split data to test and train sets\n",
        "for i in range(len(shuffled_list)):\n",
        "  if i < training_amount:\n",
        "    train_fen_list.append(global_fen_list[rating_category][shuffled_list[i]])\n",
        "    train_error_list.append(global_error_list[rating_category][shuffled_list[i]])\n",
        "  else:\n",
        "    test_fen_list.append(global_fen_list[rating_category][shuffled_list[i]])\n",
        "    test_error_list.append(global_error_list[rating_category][shuffled_list[i]])"
      ],
      "execution_count": 7,
      "outputs": [
        {
          "output_type": "stream",
          "text": [
            "1215996\n",
            "1215996\n"
          ],
          "name": "stdout"
        }
      ]
    },
    {
      "cell_type": "code",
      "metadata": {
        "id": "M8KtwGxZgt7H",
        "colab_type": "code",
        "outputId": "0f548bba-0f87-4ae6-f0b1-ad4f9f48eb9a",
        "colab": {
          "base_uri": "https://localhost:8080/",
          "height": 151
        }
      },
      "source": [
        "train_error_indices = [] # Indicies of training examples of error\n",
        "train_error_amounts = [] # List of errors\n",
        "\n",
        "train_zero_indices = [] # Indices of 0 error exampes for training\n",
        "\n",
        "for i in range(len(train_fen_list)):\n",
        "  processed_error = train_error_list[i] # 0 to 1 scalar\n",
        "  if processed_error > 0: # If there's an error\n",
        "    train_error_indices.append(i)\n",
        "    train_error_amounts.append(processed_error)\n",
        "  else:\n",
        "    train_zero_indices.append(i)\n",
        "\n",
        "print(\"Length Errors\", len(train_error_indices), len(train_error_amounts))\n",
        "amount_correct = len(train_fen_list) - len(train_error_amounts)\n",
        "amount_incorrect = len(train_error_amounts)\n",
        "\n",
        "categorical_train_index = min(amount_correct, amount_incorrect)\n",
        "\n",
        "# Turn regression lists into numpy arrays\n",
        "regression_train_x = np.zeros((amount_incorrect, 769))\n",
        "regression_train_y = np.asarray(train_error_amounts)\n",
        "\n",
        "categorical_correct_x = np.zeros((amount_correct, 769))\n",
        "categorical_incorrect_x = np.zeros((amount_incorrect, 769))\n",
        "\n",
        "for i in tqdm(range(amount_incorrect)):\n",
        "  regression_train_x[i] = flat_input(train_fen_list[train_error_indices[i]])\n",
        "  categorical_incorrect_x[i] = flat_input(train_fen_list[train_error_indices[i]])\n",
        "\n",
        "correct_indices = random.sample(train_zero_indices, categorical_train_index)\n",
        "\n",
        "for i in tqdm(range(len(correct_indices))):\n",
        "  categorical_correct_x[i] = flat_input(train_fen_list[correct_indices[i]])\n",
        "\n",
        "categorical_train_x = np.zeros((2 * categorical_train_index, 769))\n",
        "categorical_train_y = np.zeros((2 * categorical_train_index,))\n",
        "\n",
        "for i in tqdm(range(categorical_train_index)):\n",
        "  categorical_train_x[2 * i] = categorical_correct_x[i]\n",
        "  categorical_train_y[2 * i] = 0\n",
        "  categorical_train_x[2 * i + 1] = categorical_incorrect_x[i]\n",
        "  categorical_train_y[2 * i + 1] = 1\n",
        "\n",
        "print(\"CTrainX Shape\", categorical_train_x.shape)\n",
        "print(\"CTrainY Shape\", categorical_train_y.shape)\n",
        "\n",
        "print(\"RTrainX Shape\", regression_train_x.shape)\n",
        "print(\"RTrainY Shape\", regression_train_y.shape)"
      ],
      "execution_count": 8,
      "outputs": [
        {
          "output_type": "stream",
          "text": [
            "Length Errors 229215 229215\n"
          ],
          "name": "stdout"
        },
        {
          "output_type": "stream",
          "text": [
            "100%|██████████| 229215/229215 [00:14<00:00, 15371.81it/s]\n",
            "100%|██████████| 229215/229215 [00:07<00:00, 30393.52it/s]\n",
            "100%|██████████| 229215/229215 [00:01<00:00, 192924.85it/s]"
          ],
          "name": "stderr"
        },
        {
          "output_type": "stream",
          "text": [
            "CTrainX Shape (458430, 769)\n",
            "CTrainY Shape (458430,)\n",
            "RTrainX Shape (229215, 769)\n",
            "RTrainY Shape (229215,)\n"
          ],
          "name": "stdout"
        },
        {
          "output_type": "stream",
          "text": [
            "\n"
          ],
          "name": "stderr"
        }
      ]
    },
    {
      "cell_type": "code",
      "metadata": {
        "id": "JDFkk2XpofnF",
        "colab_type": "code",
        "outputId": "30f29394-cb07-455b-d92c-1cc040025be5",
        "colab": {
          "base_uri": "https://localhost:8080/",
          "height": 50
        }
      },
      "source": [
        "test_error_indices = [] # Indicies of test examples of error\n",
        "test_error_amounts = [] # List of errors\n",
        "\n",
        "categorical_test_x = np.zeros((len(test_fen_list), 769))\n",
        "categorical_test_y = np.zeros((len(test_fen_list),))\n",
        "\n",
        "for i in tqdm(range(len(test_fen_list))):\n",
        "  processed_error = test_error_list[i] # 0 to 1 scalar\n",
        "  \n",
        "  categorical_test_x[i] = flat_input(test_fen_list[i])\n",
        "  categorical_test_y[i] = 1 if processed_error > 0 else 0\n",
        "  \n",
        "  if processed_error > 0: # If there's an error\n",
        "    test_error_indices.append(i)\n",
        "    test_error_amounts.append(processed_error)\n",
        "\n",
        "# Turn regression lists into numpy arrays\n",
        "regression_test_x = np.zeros((len(test_error_amounts), 769))\n",
        "regression_test_y = np.asarray(test_error_amounts)\n",
        "\n",
        "for i in tqdm(range(len(test_error_amounts))):\n",
        "  regression_test_x[i] = flat_input(test_fen_list[test_error_indices[i]])"
      ],
      "execution_count": 9,
      "outputs": [
        {
          "output_type": "stream",
          "text": [
            "100%|██████████| 10000/10000 [00:00<00:00, 29205.07it/s]\n",
            "100%|██████████| 1956/1956 [00:00<00:00, 30399.93it/s]\n"
          ],
          "name": "stderr"
        }
      ]
    },
    {
      "cell_type": "markdown",
      "metadata": {
        "id": "9aGGVIh3a220",
        "colab_type": "text"
      },
      "source": [
        "Model"
      ]
    },
    {
      "cell_type": "code",
      "metadata": {
        "id": "4-i_ysIwp24V",
        "colab_type": "code",
        "colab": {}
      },
      "source": [
        "lr = 0.001\n",
        "\n",
        "class MLP:\n",
        "  def __init__(self, learning_rate, classification): # Input - learning_rate, boolean classification [T] or regression [F]\n",
        "      self.learning_rate = learning_rate\n",
        "      if classification:\n",
        "        self.model = self.build_classification_model()\n",
        "        self.model.compile(optimizer=tf.keras.optimizers.Adam(learning_rate=lr),\n",
        "                                  loss='sparse_categorical_crossentropy',metrics=['sparse_categorical_accuracy'])\n",
        "      else:\n",
        "        self.model = self.build_regression_model()\n",
        "        self.model.compile(optimizer=tf.keras.optimizers.Adam(learning_rate=lr),\n",
        "                                 loss='mse',metrics=['mae', 'mse'])\n",
        "\n",
        "  def build_classification_model(self):\n",
        "      model = Sequential()\n",
        "\n",
        "      model.add(Dense(1048, input_dim=769))\n",
        "      model.add(Activation('relu'))\n",
        "      model.add(Dropout(0.2))\n",
        "\n",
        "      model.add(Dense(500))\n",
        "      model.add(Activation('relu'))\n",
        "      model.add(Dropout(0.2))\n",
        "\n",
        "      model.add(Dense(50))\n",
        "      model.add(Activation('relu'))\n",
        "      model.add(Dropout(0.2))\n",
        "\n",
        "      model.add(Dense(2))\n",
        "      model.add(Activation('softmax'))\n",
        "      \n",
        "      model.summary()\n",
        "      return model\n",
        "\n",
        "  def build_regression_model(self):\n",
        "      model = Sequential()\n",
        "\n",
        "      model.add(Dense(1048, input_dim=769))\n",
        "      model.add(Activation('relu'))\n",
        "      model.add(Dropout(0.2))\n",
        "\n",
        "      model.add(Dense(500))\n",
        "      model.add(Activation('relu'))\n",
        "      model.add(Dropout(0.2))\n",
        "\n",
        "      model.add(Dense(50))\n",
        "      model.add(Activation('relu'))\n",
        "      model.add(Dropout(0.2))\n",
        "\n",
        "      model.add(Dense(1))\n",
        "      \n",
        "      model.summary()\n",
        "      return model\n",
        "\n",
        "  def train(self, x, y, val_x, val_y):\n",
        "      history = self.model.fit(x, y, epochs=1, verbose=1, validation_data=(val_x, val_y))\n",
        "      return history "
      ],
      "execution_count": 0,
      "outputs": []
    },
    {
      "cell_type": "code",
      "metadata": {
        "id": "lTF1tfnCqb8E",
        "colab_type": "code",
        "outputId": "6beab3ac-90a6-4efc-f0c8-15e733f1310c",
        "colab": {
          "base_uri": "https://localhost:8080/",
          "height": 151
        }
      },
      "source": [
        "import matplotlib.pyplot as plt\n",
        "\n",
        "print(categorical_train_x.shape)\n",
        "print(categorical_train_y.shape)\n",
        "print(regression_train_x.shape)\n",
        "print(regression_train_y.shape)\n",
        "\n",
        "print(categorical_test_x.shape)\n",
        "print(categorical_test_y.shape)\n",
        "print(regression_test_x.shape)\n",
        "print(regression_test_y.shape)"
      ],
      "execution_count": 11,
      "outputs": [
        {
          "output_type": "stream",
          "text": [
            "(458430, 769)\n",
            "(458430,)\n",
            "(229215, 769)\n",
            "(229215,)\n",
            "(10000, 769)\n",
            "(10000,)\n",
            "(1956, 769)\n",
            "(1956,)\n"
          ],
          "name": "stdout"
        }
      ]
    },
    {
      "cell_type": "code",
      "metadata": {
        "id": "gZskrdSGp5Rl",
        "colab_type": "code",
        "outputId": "3b193e9c-0b97-4281-abe4-6ed874358106",
        "colab": {
          "base_uri": "https://localhost:8080/",
          "height": 1000
        }
      },
      "source": [
        "classification_network = MLP(lr, True)\n",
        "regression_network = MLP(lr, False)\n",
        "\n",
        "first_train_hist = classification_network.train(categorical_train_x, categorical_train_y, categorical_test_x, categorical_test_y)\n",
        "\n",
        "plt.figure(1)\n",
        "loss = first_train_hist.history['loss']\n",
        "val_loss = first_train_hist.history['val_loss']\n",
        "epochs = range(1, len(loss) + 1)\n",
        "plt.plot(epochs, loss, 'y', label='Training loss')\n",
        "plt.plot(epochs, val_loss, 'r', label='Validation loss')\n",
        "plt.title('Training and validation loss')\n",
        "plt.xlabel('Epochs')\n",
        "plt.ylabel('Loss')\n",
        "plt.legend()\n",
        "\n",
        "second_train_hist = regression_network.train(regression_train_x, regression_train_y, regression_test_x, regression_test_y)\n",
        "\n",
        "plt.figure(2)\n",
        "loss = second_train_hist.history['loss']\n",
        "val_loss = second_train_hist.history['val_loss']\n",
        "epochs = range(1, len(loss) + 1)\n",
        "plt.plot(epochs, loss, 'y', label='Training loss')\n",
        "plt.plot(epochs, val_loss, 'r', label='Validation loss')\n",
        "plt.title('Training and validation loss')\n",
        "plt.xlabel('Epochs')\n",
        "plt.ylabel('Loss')\n",
        "plt.legend()\n",
        "\n",
        "plt.show()"
      ],
      "execution_count": 13,
      "outputs": [
        {
          "output_type": "stream",
          "text": [
            "Model: \"sequential_2\"\n",
            "_________________________________________________________________\n",
            "Layer (type)                 Output Shape              Param #   \n",
            "=================================================================\n",
            "dense_8 (Dense)              (None, 1048)              806960    \n",
            "_________________________________________________________________\n",
            "activation_7 (Activation)    (None, 1048)              0         \n",
            "_________________________________________________________________\n",
            "dropout_6 (Dropout)          (None, 1048)              0         \n",
            "_________________________________________________________________\n",
            "dense_9 (Dense)              (None, 500)               524500    \n",
            "_________________________________________________________________\n",
            "activation_8 (Activation)    (None, 500)               0         \n",
            "_________________________________________________________________\n",
            "dropout_7 (Dropout)          (None, 500)               0         \n",
            "_________________________________________________________________\n",
            "dense_10 (Dense)             (None, 50)                25050     \n",
            "_________________________________________________________________\n",
            "activation_9 (Activation)    (None, 50)                0         \n",
            "_________________________________________________________________\n",
            "dropout_8 (Dropout)          (None, 50)                0         \n",
            "_________________________________________________________________\n",
            "dense_11 (Dense)             (None, 2)                 102       \n",
            "_________________________________________________________________\n",
            "activation_10 (Activation)   (None, 2)                 0         \n",
            "=================================================================\n",
            "Total params: 1,356,612\n",
            "Trainable params: 1,356,612\n",
            "Non-trainable params: 0\n",
            "_________________________________________________________________\n",
            "Model: \"sequential_3\"\n",
            "_________________________________________________________________\n",
            "Layer (type)                 Output Shape              Param #   \n",
            "=================================================================\n",
            "dense_12 (Dense)             (None, 1048)              806960    \n",
            "_________________________________________________________________\n",
            "activation_11 (Activation)   (None, 1048)              0         \n",
            "_________________________________________________________________\n",
            "dropout_9 (Dropout)          (None, 1048)              0         \n",
            "_________________________________________________________________\n",
            "dense_13 (Dense)             (None, 500)               524500    \n",
            "_________________________________________________________________\n",
            "activation_12 (Activation)   (None, 500)               0         \n",
            "_________________________________________________________________\n",
            "dropout_10 (Dropout)         (None, 500)               0         \n",
            "_________________________________________________________________\n",
            "dense_14 (Dense)             (None, 50)                25050     \n",
            "_________________________________________________________________\n",
            "activation_13 (Activation)   (None, 50)                0         \n",
            "_________________________________________________________________\n",
            "dropout_11 (Dropout)         (None, 50)                0         \n",
            "_________________________________________________________________\n",
            "dense_15 (Dense)             (None, 1)                 51        \n",
            "=================================================================\n",
            "Total params: 1,356,561\n",
            "Trainable params: 1,356,561\n",
            "Non-trainable params: 0\n",
            "_________________________________________________________________\n",
            "Train on 458430 samples, validate on 10000 samples\n",
            "458430/458430 [==============================] - 133s 290us/sample - loss: 0.6735 - sparse_categorical_accuracy: 0.5839 - val_loss: 0.6531 - val_sparse_categorical_accuracy: 0.5854\n",
            "Train on 229215 samples, validate on 1956 samples\n",
            "229215/229215 [==============================] - 70s 304us/sample - loss: 0.0632 - mean_absolute_error: 0.2175 - mean_squared_error: 0.0632 - val_loss: 0.0586 - val_mean_absolute_error: 0.2148 - val_mean_squared_error: 0.0586\n"
          ],
          "name": "stdout"
        },
        {
          "output_type": "display_data",
          "data": {
            "image/png": "[encoded data removed]",
            "text/plain": [
              "<Figure size 432x288 with 1 Axes>"
            ]
          },
          "metadata": {
            "tags": [],
            "needs_background": "light"
          }
        },
        {
          "output_type": "display_data",
          "data": {
            "image/png": "[encoded data removed]",
            "text/plain": [
              "<Figure size 432x288 with 1 Axes>"
            ]
          },
          "metadata": {
            "tags": [],
            "needs_background": "light"
          }
        }
      ]
    },
    {
      "cell_type": "markdown",
      "metadata": {
        "id": "bYANxjFOfy7l",
        "colab_type": "text"
      },
      "source": [
        "Save and Upload to Google Drive"
      ]
    },
    {
      "cell_type": "code",
      "metadata": {
        "id": "51MpB1KVA2_s",
        "colab_type": "code",
        "colab": {}
      },
      "source": [
        "classification_network.model.save_weights('cat_model_weights.h5')\n",
        "regression_network.model.save_weights('reg_model_weights.h5')"
      ],
      "execution_count": 0,
      "outputs": []
    },
    {
      "cell_type": "code",
      "metadata": {
        "id": "JYu4jP1GBtSS",
        "colab_type": "code",
        "outputId": "58ffa21c-0e63-41e7-a97c-7724dad71662",
        "colab": {
          "base_uri": "https://localhost:8080/",
          "height": 34
        }
      },
      "source": [
        "# Install the PyDrive wrapper & import libraries.\n",
        "# This only needs to be done once in a notebook.\n",
        "!pip install -U -q PyDrive\n",
        "from pydrive.auth import GoogleAuth\n",
        "from pydrive.drive import GoogleDrive\n",
        "from google.colab import auth\n",
        "from oauth2client.client import GoogleCredentials\n",
        "\n",
        "# Authenticate and create the PyDrive client.\n",
        "# This only needs to be done once in a notebook.\n",
        "auth.authenticate_user()\n",
        "gauth = GoogleAuth()\n",
        "gauth.credentials = GoogleCredentials.get_application_default()\n",
        "drive = GoogleDrive(gauth)\n",
        "\n",
        "# Create & upload a file - REPLACE NEXT TWO LINES \n",
        "uploaded = drive.CreateFile({'title': '/content/cat_model_weights.h5'}) # Replace with PATH of bestweights if you have it\n",
        "uploaded.SetContentFile('/content/cat_model_weights.h5') # Replace with PATH of bestweights if you have it\n",
        "uploaded.Upload()\n",
        "print('Uploaded file with ID {}'.format(uploaded.get('id')))"
      ],
      "execution_count": 0,
      "outputs": [
        {
          "output_type": "stream",
          "text": [
            "Uploaded file with ID 13xqsf1NsKzwSzfs1qJ2ZbikJua6bA5vF\n"
          ],
          "name": "stdout"
        }
      ]
    }
  ]
}